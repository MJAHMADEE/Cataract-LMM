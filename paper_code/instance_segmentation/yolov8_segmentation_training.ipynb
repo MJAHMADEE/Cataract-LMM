{
  "cells": [
    {
      "cell_type": "code",
      "execution_count": null,
      "id": "87959622",
      "metadata": {},
      "outputs": [],
      "source": [
        "from google.colab import drive\n",
        "\n",
        "drive.mount(\"/content/drive\")"
      ]
    },
    {
      "cell_type": "code",
      "execution_count": null,
      "id": "766eb8f2",
      "metadata": {},
      "outputs": [],
      "source": [
        "# Changing directory to dataset directory\n",
        "\n",
        "%cd /content/content/drive/MyDrive/final_main_seg_dataset_just_ARAS"
      ]
    },
    {
      "cell_type": "code",
      "execution_count": null,
      "id": "3a48ce6d",
      "metadata": {},
      "outputs": [],
      "source": [
        "!pip install -q ultralytics\n",
        "import ultralytics\n",
        "from ultralytics import YOLO\n",
        "\n",
        "ultralytics.checks()"
      ]
    },
    {
      "cell_type": "code",
      "execution_count": null,
      "id": "1b0bcf1e",
      "metadata": {},
      "outputs": [],
      "source": [
        "# loading pretrained yolo8 model\n",
        "model = YOLO(\"yolo8l-seg\")"
      ]
    },
    {
      "cell_type": "code",
      "execution_count": null,
      "id": "023ddc90",
      "metadata": {},
      "outputs": [],
      "source": [
        "# the same configuration as yolo11\n",
        "\n",
        "model.train(\n",
        "    data=\"./data.yaml\",  # Path to dataset YAML\n",
        "    epochs=80,  # Number of epochs\n",
        "    imgsz=640,  # Image size for training\n",
        "    batch=20,  # Batch size\n",
        "    device=0,  # Use GPU (0) or 'CPU'\n",
        "    plots=True,\n",
        "    resume=True,\n",
        ")"
      ]
    }
  ],
  "metadata": {
    "language_info": {
      "name": "python"
    }
  },
  "nbformat": 4,
  "nbformat_minor": 5
}