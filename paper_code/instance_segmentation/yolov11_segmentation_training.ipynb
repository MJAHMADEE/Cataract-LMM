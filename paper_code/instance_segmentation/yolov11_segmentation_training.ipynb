{
  "cells": [
    {
      "cell_type": "code",
      "execution_count": null,
      "id": "a6adbf89",
      "metadata": {},
      "outputs": [],
      "source": [
        "from google.colab import drive\n",
        "\n",
        "drive.mount(\"/content/drive\")"
      ]
    },
    {
      "cell_type": "code",
      "execution_count": null,
      "id": "3d18f7b9",
      "metadata": {},
      "outputs": [],
      "source": [
        "# Changing directory to dataset directory\n",
        "\n",
        "%cd /content/content/drive/MyDrive/final_main_seg_dataset_just_ARAS"
      ]
    },
    {
      "cell_type": "code",
      "execution_count": null,
      "id": "0b566d29",
      "metadata": {},
      "outputs": [],
      "source": [
        "!pip install -q ultralytics\n",
        "import ultralytics\n",
        "from ultralytics import YOLO\n",
        "\n",
        "ultralytics.checks()"
      ]
    },
    {
      "cell_type": "code",
      "execution_count": null,
      "id": "fdd15262",
      "metadata": {},
      "outputs": [],
      "source": [
        "model = YOLO(\"yolo11l-seg\")"
      ]
    },
    {
      "cell_type": "code",
      "execution_count": null,
      "id": "a8eb9c6b",
      "metadata": {},
      "outputs": [],
      "source": [
        "model.train(\n",
        "    data=\"./data.yaml\",  # Path to dataset YAML\n",
        "    epochs=80,  # Number of epochs\n",
        "    imgsz=640,  # Image size for training\n",
        "    batch=20,  # Batch size\n",
        "    device=0,  # Use GPU (0) or 'CPU'\n",
        "    plots=True,\n",
        "    resume=True,\n",
        ")"
      ]
    }
  ],
  "metadata": {
    "language_info": {
      "name": "python"
    }
  },
  "nbformat": 4,
  "nbformat_minor": 5
}