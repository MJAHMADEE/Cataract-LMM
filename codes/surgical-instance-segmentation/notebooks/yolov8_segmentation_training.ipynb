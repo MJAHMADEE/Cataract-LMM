{
 "cells": [
  {
   "cell_type": "code",
   "execution_count": null,
   "metadata": {
    "colab": {
     "base_uri": "https://localhost:8080/"
    },
    "id": "5cddOgHA-sGs",
    "outputId": "f33e6a3c-9466-461d-84b7-92c4ab1bb888"
   },
   "outputs": [
    {
     "name": "stdout",
     "output_type": "stream",
     "text": [
      "Mounted at /content/drive\n"
     ]
    }
   ],
   "source": [
    "from google.colab import drive\n",
    "\n",
    "drive.mount(\"/content/drive\")"
   ]
  },
  {
   "cell_type": "code",
   "execution_count": null,
   "metadata": {
    "colab": {
     "base_uri": "https://localhost:8080/"
    },
    "id": "dFETvEwK_GpC",
    "outputId": "497fc5d9-c9e5-4dcc-a7b6-82b27ce742c2"
   },
   "outputs": [],
   "source": [
    "# Changing directory to dataset directory\n",
    "\n",
    "%cd /content/content/drive/MyDrive/final_main_seg_dataset_just_ARAS"
   ]
  },
  {
   "cell_type": "code",
   "execution_count": null,
   "metadata": {
    "colab": {
     "base_uri": "https://localhost:8080/"
    },
    "id": "6a7l2tq__-Pr",
    "outputId": "3afcc29c-bc6e-41e9-b411-e9dbdc2c260f"
   },
   "outputs": [
    {
     "name": "stdout",
     "output_type": "stream",
     "text": [
      "Ultralytics 8.3.128 🚀 Python-3.11.12 torch-2.6.0+cu124 CUDA:0 (Tesla T4, 15095MiB)\n",
      "Setup complete ✅ (2 CPUs, 12.7 GB RAM, 42.8/112.6 GB disk)\n"
     ]
    }
   ],
   "source": [
    "!pip install -q ultralytics\n",
    "import ultralytics\n",
    "from ultralytics import YOLO\n",
    "\n",
    "ultralytics.checks()"
   ]
  },
  {
   "cell_type": "code",
   "execution_count": null,
   "metadata": {
    "id": "ZljaNqW_AAg2"
   },
   "outputs": [],
   "source": [
    "# loading pretrained yolo8 model\n",
    "model = YOLO(\"yolo8l-seg\")"
   ]
  },
  {
   "cell_type": "code",
   "execution_count": null,
   "metadata": {
    "colab": {
     "base_uri": "https://localhost:8080/",
     "height": 1000
    },
    "id": "YVPIf6ILAdZ6",
    "outputId": "e521b5e2-2829-4b4d-cf68-ca927fcd9c68"
   },
   "outputs": [],
   "source": [
    "# the same configuration as yolo11\n",
    "\n",
    "model.train(\n",
    "    data=\"./data.yaml\",  # Path to dataset YAML\n",
    "    epochs=80,  # Number of epochs\n",
    "    imgsz=640,  # Image size for training\n",
    "    batch=20,  # Batch size\n",
    "    device=0,  # Use GPU (0) or 'CPU'\n",
    "    plots=True,\n",
    "    resume=True,\n",
    ")"
   ]
  }
 ],
 "metadata": {
  "accelerator": "GPU",
  "colab": {
   "gpuType": "T4",
   "provenance": []
  },
  "kernelspec": {
   "display_name": "Python 3",
   "name": "python3"
  },
  "language_info": {
   "name": "python"
  }
 },
 "nbformat": 4,
 "nbformat_minor": 0
}
